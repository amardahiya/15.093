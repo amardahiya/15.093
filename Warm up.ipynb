{
 "cells": [
  {
   "cell_type": "code",
   "execution_count": 1,
   "metadata": {
    "collapsed": false
   },
   "outputs": [
    {
     "data": {
      "text/html": [
       "<div id=\"interact-js-shim\">\n",
       "    <script charset=\"utf-8\">\n",
       "(function (IPython, $, _, MathJax) {\n",
       "    $.event.special.destroyed = {\n",
       "\tremove: function(o) {\n",
       "\t    if (o.handler) {\n",
       "\t\to.handler.apply(this, arguments)\n",
       "\t    }\n",
       "\t}\n",
       "    }\n",
       "\n",
       "    var OutputArea = IPython.version >= \"4.0.0\" ? require(\"notebook/js/outputarea\").OutputArea : IPython.OutputArea;\n",
       "\n",
       "    var redrawValue = function (container, type, val) {\n",
       "\tvar selector = $(\"<div/>\");\n",
       "\tvar oa = new OutputArea(_.extend(selector, {\n",
       "\t    selector: selector,\n",
       "\t    prompt_area: true,\n",
       "\t    events: IPython.events,\n",
       "\t    keyboard_manager: IPython.keyboard_manager\n",
       "\t})); // Hack to work with IPython 2.1.0\n",
       "\n",
       "\tswitch (type) {\n",
       "\tcase \"image/png\":\n",
       "            var _src = 'data:' + type + ';base64,' + val;\n",
       "\t    $(container).find(\"img\").attr('src', _src);\n",
       "\t    break;\n",
       "\tdefault:\n",
       "\t    var toinsert = OutputArea.append_map[type].apply(\n",
       "\t\toa, [val, {}, selector]\n",
       "\t    );\n",
       "\t    $(container).empty().append(toinsert.contents());\n",
       "\t    selector.remove();\n",
       "\t}\n",
       "\tif (type === \"text/latex\" && MathJax) {\n",
       "\t    MathJax.Hub.Queue([\"Typeset\", MathJax.Hub, toinsert.get(0)]);\n",
       "\t}\n",
       "    }\n",
       "\n",
       "\n",
       "    $(document).ready(function() {\n",
       "\tfunction initComm(evt, data) {\n",
       "\t    var comm_manager = data.kernel.comm_manager;\n",
       "        //_.extend(comm_manager.targets, require(\"widgets/js/widget\"))\n",
       "\t    comm_manager.register_target(\"Signal\", function (comm) {\n",
       "            comm.on_msg(function (msg) {\n",
       "                //Widgets.log(\"message received\", msg);\n",
       "                var val = msg.content.data.value;\n",
       "                $(\".signal-\" + comm.comm_id).each(function() {\n",
       "                var type = $(this).data(\"type\");\n",
       "                if (val[type]) {\n",
       "                    redrawValue(this, type, val[type], type);\n",
       "                }\n",
       "                });\n",
       "                delete val;\n",
       "                delete msg.content.data.value;\n",
       "            });\n",
       "\t    });\n",
       "\n",
       "\t    // coordingate with Comm and redraw Signals\n",
       "\t    // XXX: Test using Reactive here to improve performance\n",
       "\t    $([IPython.events]).on(\n",
       "\t\t'output_appended.OutputArea', function (event, type, value, md, toinsert) {\n",
       "\t\t    if (md && md.reactive) {\n",
       "                // console.log(md.comm_id);\n",
       "                toinsert.addClass(\"signal-\" + md.comm_id);\n",
       "                toinsert.data(\"type\", type);\n",
       "                // Signal back indicating the mimetype required\n",
       "                var comm_manager = IPython.notebook.kernel.comm_manager;\n",
       "                var comm = comm_manager.comms[md.comm_id];\n",
       "                comm.then(function (c) {\n",
       "                    c.send({action: \"subscribe_mime\",\n",
       "                       mime: type});\n",
       "                    toinsert.bind(\"destroyed\", function() {\n",
       "                        c.send({action: \"unsubscribe_mime\",\n",
       "                               mime: type});\n",
       "                    });\n",
       "                })\n",
       "\t\t    }\n",
       "\t    });\n",
       "\t}\n",
       "\n",
       "\ttry {\n",
       "\t    // try to initialize right away. otherwise, wait on the status_started event.\n",
       "\t    initComm(undefined, IPython.notebook);\n",
       "\t} catch (e) {\n",
       "\t    $([IPython.events]).on('kernel_created.Kernel kernel_created.Session', initComm);\n",
       "\t}\n",
       "    });\n",
       "})(IPython, jQuery, _, MathJax);\n",
       "</script>\n",
       "    <script>\n",
       "        window.interactLoadedFlag = true\n",
       "       $(\"#interact-js-shim\").bind(\"destroyed\", function () {\n",
       "           if (window.interactLoadedFlag) {\n",
       "               console.warn(\"JavaScript required by Interact will be removed if you remove this cell or run using Interact more than once.\")\n",
       "           }\n",
       "       })\n",
       "       $([IPython.events]).on(\"kernel_starting.Kernel kernel_restarting.Kernel\", function () { window.interactLoadedFlag = false })\n",
       "   </script>\n",
       "</div>"
      ]
     },
     "metadata": {},
     "output_type": "display_data"
    }
   ],
   "source": [
    "using Interact"
   ]
  },
  {
   "cell_type": "code",
   "execution_count": 2,
   "metadata": {
    "collapsed": false
   },
   "outputs": [
    {
     "data": {
      "text/html": [],
      "text/plain": [
       "Interact.Slider{Int64}(Signal{Int64}(5, nactions=0),\"i\",5,1:10,\"d\",true)"
      ]
     },
     "metadata": {},
     "output_type": "display_data"
    },
    {
     "data": {
      "text/plain": [
       "25"
      ]
     },
     "execution_count": 2,
     "metadata": {
      "comm_id": "abab669d-c008-4f44-957c-402e24cc2611",
      "reactive": true
     },
     "output_type": "execute_result"
    }
   ],
   "source": [
    "@manipulate for i in 1:10\n",
    "    i^2\n",
    "end"
   ]
  },
  {
   "cell_type": "code",
   "execution_count": 3,
   "metadata": {
    "collapsed": false
   },
   "outputs": [
    {
     "data": {
      "text/plain": [
       "Plots.GRBackend()"
      ]
     },
     "execution_count": 3,
     "metadata": {},
     "output_type": "execute_result"
    }
   ],
   "source": [
    "using Plots\n",
    "gr()"
   ]
  },
  {
   "cell_type": "code",
   "execution_count": 4,
   "metadata": {
    "collapsed": false
   },
   "outputs": [
    {
     "data": {
      "text/html": [
       "<?xml version=\"1.0\" encoding=\"utf-8\"?>\n",
       "<svg xmlns=\"http://www.w3.org/2000/svg\" xmlns:xlink=\"http://www.w3.org/1999/xlink\" width=\"600\" height=\"400\" viewBox=\"0 0 600 400\">\n",
       "<defs>\n",
       "  <clipPath id=\"clip00\">\n",
       "    <rect x=\"0\" y=\"0\" width=\"600\" height=\"400\"/>\n",
       "  </clipPath>\n",
       "</defs>\n",
       "<polygon clip-path=\"url(#clip00)\" points=\"\n",
       "0,400 600,400 600,0 0,0 \n",
       "  \" fill=\"#ffffff\" fill-opacity=\"1\"/>\n",
       "<defs>\n",
       "  <clipPath id=\"clip01\">\n",
       "    <rect x=\"120\" y=\"0\" width=\"421\" height=\"400\"/>\n",
       "  </clipPath>\n",
       "</defs>\n",
       "<polygon clip-path=\"url(#clip00)\" points=\"\n",
       "34.5407,381.015 596.063,381.015 596.063,3.93701 34.5407,3.93701 \n",
       "  \" fill=\"#ffffff\" fill-opacity=\"1\"/>\n",
       "<defs>\n",
       "  <clipPath id=\"clip02\">\n",
       "    <rect x=\"34\" y=\"3\" width=\"562\" height=\"378\"/>\n",
       "  </clipPath>\n",
       "</defs>\n",
       "<polyline clip-path=\"url(#clip02)\" style=\"stroke:#00002d; stroke-width:0.8; stroke-opacity:0.5; fill:none\" stroke-dasharray=\"1, 2\" points=\"\n",
       "  34.5407,375.359 34.5407,9.59318 \n",
       "  \"/>\n",
       "<polyline clip-path=\"url(#clip02)\" style=\"stroke:#00002d; stroke-width:0.8; stroke-opacity:0.5; fill:none\" stroke-dasharray=\"1, 2\" points=\"\n",
       "  174.921,375.359 174.921,9.59318 \n",
       "  \"/>\n",
       "<polyline clip-path=\"url(#clip02)\" style=\"stroke:#00002d; stroke-width:0.8; stroke-opacity:0.5; fill:none\" stroke-dasharray=\"1, 2\" points=\"\n",
       "  315.302,375.359 315.302,9.59318 \n",
       "  \"/>\n",
       "<polyline clip-path=\"url(#clip02)\" style=\"stroke:#00002d; stroke-width:0.8; stroke-opacity:0.5; fill:none\" stroke-dasharray=\"1, 2\" points=\"\n",
       "  455.682,375.359 455.682,9.59318 \n",
       "  \"/>\n",
       "<polyline clip-path=\"url(#clip02)\" style=\"stroke:#00002d; stroke-width:0.8; stroke-opacity:0.5; fill:none\" stroke-dasharray=\"1, 2\" points=\"\n",
       "  596.063,375.359 596.063,9.59318 \n",
       "  \"/>\n",
       "<polyline clip-path=\"url(#clip02)\" style=\"stroke:#00002d; stroke-width:0.8; stroke-opacity:0.5; fill:none\" stroke-dasharray=\"1, 2\" points=\"\n",
       "  42.9635,381.015 587.64,381.015 \n",
       "  \"/>\n",
       "<polyline clip-path=\"url(#clip02)\" style=\"stroke:#00002d; stroke-width:0.8; stroke-opacity:0.5; fill:none\" stroke-dasharray=\"1, 2\" points=\"\n",
       "  42.9635,286.745 587.64,286.745 \n",
       "  \"/>\n",
       "<polyline clip-path=\"url(#clip02)\" style=\"stroke:#00002d; stroke-width:0.8; stroke-opacity:0.5; fill:none\" stroke-dasharray=\"1, 2\" points=\"\n",
       "  42.9635,192.476 587.64,192.476 \n",
       "  \"/>\n",
       "<polyline clip-path=\"url(#clip02)\" style=\"stroke:#00002d; stroke-width:0.8; stroke-opacity:0.5; fill:none\" stroke-dasharray=\"1, 2\" points=\"\n",
       "  42.9635,98.2065 587.64,98.2065 \n",
       "  \"/>\n",
       "<polyline clip-path=\"url(#clip02)\" style=\"stroke:#00002d; stroke-width:0.8; stroke-opacity:0.5; fill:none\" stroke-dasharray=\"1, 2\" points=\"\n",
       "  42.9635,3.93701 587.64,3.93701 \n",
       "  \"/>\n",
       "<polyline clip-path=\"url(#clip02)\" style=\"stroke:#00002d; stroke-width:0.8; stroke-opacity:1; fill:none\" points=\"\n",
       "  34.5407,381.015 596.063,381.015 \n",
       "  \"/>\n",
       "<polyline clip-path=\"url(#clip02)\" style=\"stroke:#00002d; stroke-width:0.8; stroke-opacity:1; fill:none\" points=\"\n",
       "  34.5407,381.015 34.5407,375.359 \n",
       "  \"/>\n",
       "<polyline clip-path=\"url(#clip02)\" style=\"stroke:#00002d; stroke-width:0.8; stroke-opacity:1; fill:none\" points=\"\n",
       "  174.921,381.015 174.921,375.359 \n",
       "  \"/>\n",
       "<polyline clip-path=\"url(#clip02)\" style=\"stroke:#00002d; stroke-width:0.8; stroke-opacity:1; fill:none\" points=\"\n",
       "  315.302,381.015 315.302,375.359 \n",
       "  \"/>\n",
       "<polyline clip-path=\"url(#clip02)\" style=\"stroke:#00002d; stroke-width:0.8; stroke-opacity:1; fill:none\" points=\"\n",
       "  455.682,381.015 455.682,375.359 \n",
       "  \"/>\n",
       "<polyline clip-path=\"url(#clip02)\" style=\"stroke:#00002d; stroke-width:0.8; stroke-opacity:1; fill:none\" points=\"\n",
       "  596.063,381.015 596.063,375.359 \n",
       "  \"/>\n",
       "<polyline clip-path=\"url(#clip02)\" style=\"stroke:#00002d; stroke-width:0.8; stroke-opacity:1; fill:none\" points=\"\n",
       "  34.5407,381.015 34.5407,3.93701 \n",
       "  \"/>\n",
       "<polyline clip-path=\"url(#clip02)\" style=\"stroke:#00002d; stroke-width:0.8; stroke-opacity:1; fill:none\" points=\"\n",
       "  34.5407,381.015 42.9635,381.015 \n",
       "  \"/>\n",
       "<polyline clip-path=\"url(#clip02)\" style=\"stroke:#00002d; stroke-width:0.8; stroke-opacity:1; fill:none\" points=\"\n",
       "  34.5407,286.745 42.9635,286.745 \n",
       "  \"/>\n",
       "<polyline clip-path=\"url(#clip02)\" style=\"stroke:#00002d; stroke-width:0.8; stroke-opacity:1; fill:none\" points=\"\n",
       "  34.5407,192.476 42.9635,192.476 \n",
       "  \"/>\n",
       "<polyline clip-path=\"url(#clip02)\" style=\"stroke:#00002d; stroke-width:0.8; stroke-opacity:1; fill:none\" points=\"\n",
       "  34.5407,98.2065 42.9635,98.2065 \n",
       "  \"/>\n",
       "<polyline clip-path=\"url(#clip02)\" style=\"stroke:#00002d; stroke-width:0.8; stroke-opacity:1; fill:none\" points=\"\n",
       "  34.5407,3.93701 42.9635,3.93701 \n",
       "  \"/>\n",
       "<g clip-path=\"url(#clip00)\">\n",
       "<text style=\"fill:#00002d; fill-opacity:1; font-family:Arial,Helvetica Neue,Helvetica,sans-serif; font-size:12; text-anchor:middle;\" transform=\"rotate(0, 34.5407, 393.015)\" x=\"34.5407\" y=\"393.015\">1.0</text>\n",
       "</g>\n",
       "<g clip-path=\"url(#clip00)\">\n",
       "<text style=\"fill:#00002d; fill-opacity:1; font-family:Arial,Helvetica Neue,Helvetica,sans-serif; font-size:12; text-anchor:middle;\" transform=\"rotate(0, 174.921, 393.015)\" x=\"174.921\" y=\"393.015\">1.5</text>\n",
       "</g>\n",
       "<g clip-path=\"url(#clip00)\">\n",
       "<text style=\"fill:#00002d; fill-opacity:1; font-family:Arial,Helvetica Neue,Helvetica,sans-serif; font-size:12; text-anchor:middle;\" transform=\"rotate(0, 315.302, 393.015)\" x=\"315.302\" y=\"393.015\">2.0</text>\n",
       "</g>\n",
       "<g clip-path=\"url(#clip00)\">\n",
       "<text style=\"fill:#00002d; fill-opacity:1; font-family:Arial,Helvetica Neue,Helvetica,sans-serif; font-size:12; text-anchor:middle;\" transform=\"rotate(0, 455.682, 393.015)\" x=\"455.682\" y=\"393.015\">2.5</text>\n",
       "</g>\n",
       "<g clip-path=\"url(#clip00)\">\n",
       "<text style=\"fill:#00002d; fill-opacity:1; font-family:Arial,Helvetica Neue,Helvetica,sans-serif; font-size:12; text-anchor:middle;\" transform=\"rotate(0, 596.063, 393.015)\" x=\"596.063\" y=\"393.015\">3.0</text>\n",
       "</g>\n",
       "<g clip-path=\"url(#clip00)\">\n",
       "<text style=\"fill:#00002d; fill-opacity:1; font-family:Arial,Helvetica Neue,Helvetica,sans-serif; font-size:12; text-anchor:end;\" transform=\"rotate(0, 33.3407, 385.515)\" x=\"33.3407\" y=\"385.515\">2.0</text>\n",
       "</g>\n",
       "<g clip-path=\"url(#clip00)\">\n",
       "<text style=\"fill:#00002d; fill-opacity:1; font-family:Arial,Helvetica Neue,Helvetica,sans-serif; font-size:12; text-anchor:end;\" transform=\"rotate(0, 33.3407, 291.245)\" x=\"33.3407\" y=\"291.245\">2.5</text>\n",
       "</g>\n",
       "<g clip-path=\"url(#clip00)\">\n",
       "<text style=\"fill:#00002d; fill-opacity:1; font-family:Arial,Helvetica Neue,Helvetica,sans-serif; font-size:12; text-anchor:end;\" transform=\"rotate(0, 33.3407, 196.976)\" x=\"33.3407\" y=\"196.976\">3.0</text>\n",
       "</g>\n",
       "<g clip-path=\"url(#clip00)\">\n",
       "<text style=\"fill:#00002d; fill-opacity:1; font-family:Arial,Helvetica Neue,Helvetica,sans-serif; font-size:12; text-anchor:end;\" transform=\"rotate(0, 33.3407, 102.706)\" x=\"33.3407\" y=\"102.706\">3.5</text>\n",
       "</g>\n",
       "<g clip-path=\"url(#clip00)\">\n",
       "<text style=\"fill:#00002d; fill-opacity:1; font-family:Arial,Helvetica Neue,Helvetica,sans-serif; font-size:12; text-anchor:end;\" transform=\"rotate(0, 33.3407, 8.43701)\" x=\"33.3407\" y=\"8.43701\">4.0</text>\n",
       "</g>\n",
       "<polyline clip-path=\"url(#clip02)\" style=\"stroke:#0099ff; stroke-width:0.8; stroke-opacity:1; fill:none\" points=\"\n",
       "  34.5407,381.015 315.302,192.476 596.063,3.93701 \n",
       "  \"/>\n",
       "<polygon clip-path=\"url(#clip00)\" points=\"\n",
       "505.547,55.057 578.063,55.057 578.063,24.817 505.547,24.817 \n",
       "  \" fill=\"#ffffff\" fill-opacity=\"1\"/>\n",
       "<polyline clip-path=\"url(#clip00)\" style=\"stroke:#00002d; stroke-width:0.8; stroke-opacity:1; fill:none\" points=\"\n",
       "  505.547,55.057 578.063,55.057 578.063,24.817 505.547,24.817 505.547,55.057 \n",
       "  \"/>\n",
       "<polyline clip-path=\"url(#clip00)\" style=\"stroke:#0099ff; stroke-width:0.8; stroke-opacity:1; fill:none\" points=\"\n",
       "  511.547,39.937 547.547,39.937 \n",
       "  \"/>\n",
       "<g clip-path=\"url(#clip00)\">\n",
       "<text style=\"fill:#00002d; fill-opacity:1; font-family:Arial,Helvetica Neue,Helvetica,sans-serif; font-size:12; text-anchor:start;\" transform=\"rotate(0, 553.547, 44.437)\" x=\"553.547\" y=\"44.437\">y1</text>\n",
       "</g>\n",
       "</svg>\n"
      ]
     },
     "execution_count": 4,
     "metadata": {},
     "output_type": "execute_result"
    }
   ],
   "source": [
    "plot([1,2,3],[2,3,4])"
   ]
  },
  {
   "cell_type": "code",
   "execution_count": 5,
   "metadata": {
    "collapsed": false
   },
   "outputs": [
    {
     "data": {
      "text/html": [],
      "text/plain": [
       "Interact.Slider{Float64}(Signal{Float64}(0.5, nactions=0),\"z\",0.5,0.0:0.01:1.0,\".3f\",true)"
      ]
     },
     "metadata": {},
     "output_type": "display_data"
    },
    {
     "data": {
      "text/html": [
       "<?xml version=\"1.0\" encoding=\"utf-8\"?>\n",
       "<svg xmlns=\"http://www.w3.org/2000/svg\" xmlns:xlink=\"http://www.w3.org/1999/xlink\" width=\"600\" height=\"400\" viewBox=\"0 0 600 400\">\n",
       "<defs>\n",
       "  <clipPath id=\"clip00\">\n",
       "    <rect x=\"0\" y=\"0\" width=\"600\" height=\"400\"/>\n",
       "  </clipPath>\n",
       "</defs>\n",
       "<polygon clip-path=\"url(#clip00)\" points=\"\n",
       "0,400 600,400 600,0 0,0 \n",
       "  \" fill=\"#ffffff\" fill-opacity=\"1\"/>\n",
       "<defs>\n",
       "  <clipPath id=\"clip01\">\n",
       "    <rect x=\"120\" y=\"0\" width=\"421\" height=\"400\"/>\n",
       "  </clipPath>\n",
       "</defs>\n",
       "<polygon clip-path=\"url(#clip00)\" points=\"\n",
       "43.4296,381.015 596.063,381.015 596.063,3.93701 43.4296,3.93701 \n",
       "  \" fill=\"#ffffff\" fill-opacity=\"1\"/>\n",
       "<defs>\n",
       "  <clipPath id=\"clip02\">\n",
       "    <rect x=\"43\" y=\"3\" width=\"553\" height=\"378\"/>\n",
       "  </clipPath>\n",
       "</defs>\n",
       "<polyline clip-path=\"url(#clip02)\" style=\"stroke:#00002d; stroke-width:0.8; stroke-opacity:0.5; fill:none\" stroke-dasharray=\"1, 2\" points=\"\n",
       "  43.4296,375.359 43.4296,9.59318 \n",
       "  \"/>\n",
       "<polyline clip-path=\"url(#clip02)\" style=\"stroke:#00002d; stroke-width:0.8; stroke-opacity:0.5; fill:none\" stroke-dasharray=\"1, 2\" points=\"\n",
       "  219.338,375.359 219.338,9.59318 \n",
       "  \"/>\n",
       "<polyline clip-path=\"url(#clip02)\" style=\"stroke:#00002d; stroke-width:0.8; stroke-opacity:0.5; fill:none\" stroke-dasharray=\"1, 2\" points=\"\n",
       "  395.247,375.359 395.247,9.59318 \n",
       "  \"/>\n",
       "<polyline clip-path=\"url(#clip02)\" style=\"stroke:#00002d; stroke-width:0.8; stroke-opacity:0.5; fill:none\" stroke-dasharray=\"1, 2\" points=\"\n",
       "  571.156,375.359 571.156,9.59318 \n",
       "  \"/>\n",
       "<polyline clip-path=\"url(#clip02)\" style=\"stroke:#00002d; stroke-width:0.8; stroke-opacity:0.5; fill:none\" stroke-dasharray=\"1, 2\" points=\"\n",
       "  51.7191,381.015 587.773,381.015 \n",
       "  \"/>\n",
       "<polyline clip-path=\"url(#clip02)\" style=\"stroke:#00002d; stroke-width:0.8; stroke-opacity:0.5; fill:none\" stroke-dasharray=\"1, 2\" points=\"\n",
       "  51.7191,286.745 587.773,286.745 \n",
       "  \"/>\n",
       "<polyline clip-path=\"url(#clip02)\" style=\"stroke:#00002d; stroke-width:0.8; stroke-opacity:0.5; fill:none\" stroke-dasharray=\"1, 2\" points=\"\n",
       "  51.7191,192.476 587.773,192.476 \n",
       "  \"/>\n",
       "<polyline clip-path=\"url(#clip02)\" style=\"stroke:#00002d; stroke-width:0.8; stroke-opacity:0.5; fill:none\" stroke-dasharray=\"1, 2\" points=\"\n",
       "  51.7191,98.2065 587.773,98.2065 \n",
       "  \"/>\n",
       "<polyline clip-path=\"url(#clip02)\" style=\"stroke:#00002d; stroke-width:0.8; stroke-opacity:0.5; fill:none\" stroke-dasharray=\"1, 2\" points=\"\n",
       "  51.7191,3.93701 587.773,3.93701 \n",
       "  \"/>\n",
       "<polyline clip-path=\"url(#clip02)\" style=\"stroke:#00002d; stroke-width:0.8; stroke-opacity:1; fill:none\" points=\"\n",
       "  43.4296,381.015 596.063,381.015 \n",
       "  \"/>\n",
       "<polyline clip-path=\"url(#clip02)\" style=\"stroke:#00002d; stroke-width:0.8; stroke-opacity:1; fill:none\" points=\"\n",
       "  43.4296,381.015 43.4296,375.359 \n",
       "  \"/>\n",
       "<polyline clip-path=\"url(#clip02)\" style=\"stroke:#00002d; stroke-width:0.8; stroke-opacity:1; fill:none\" points=\"\n",
       "  219.338,381.015 219.338,375.359 \n",
       "  \"/>\n",
       "<polyline clip-path=\"url(#clip02)\" style=\"stroke:#00002d; stroke-width:0.8; stroke-opacity:1; fill:none\" points=\"\n",
       "  395.247,381.015 395.247,375.359 \n",
       "  \"/>\n",
       "<polyline clip-path=\"url(#clip02)\" style=\"stroke:#00002d; stroke-width:0.8; stroke-opacity:1; fill:none\" points=\"\n",
       "  571.156,381.015 571.156,375.359 \n",
       "  \"/>\n",
       "<polyline clip-path=\"url(#clip02)\" style=\"stroke:#00002d; stroke-width:0.8; stroke-opacity:1; fill:none\" points=\"\n",
       "  43.4296,381.015 43.4296,3.93701 \n",
       "  \"/>\n",
       "<polyline clip-path=\"url(#clip02)\" style=\"stroke:#00002d; stroke-width:0.8; stroke-opacity:1; fill:none\" points=\"\n",
       "  43.4296,381.015 51.7191,381.015 \n",
       "  \"/>\n",
       "<polyline clip-path=\"url(#clip02)\" style=\"stroke:#00002d; stroke-width:0.8; stroke-opacity:1; fill:none\" points=\"\n",
       "  43.4296,286.745 51.7191,286.745 \n",
       "  \"/>\n",
       "<polyline clip-path=\"url(#clip02)\" style=\"stroke:#00002d; stroke-width:0.8; stroke-opacity:1; fill:none\" points=\"\n",
       "  43.4296,192.476 51.7191,192.476 \n",
       "  \"/>\n",
       "<polyline clip-path=\"url(#clip02)\" style=\"stroke:#00002d; stroke-width:0.8; stroke-opacity:1; fill:none\" points=\"\n",
       "  43.4296,98.2065 51.7191,98.2065 \n",
       "  \"/>\n",
       "<polyline clip-path=\"url(#clip02)\" style=\"stroke:#00002d; stroke-width:0.8; stroke-opacity:1; fill:none\" points=\"\n",
       "  43.4296,3.93701 51.7191,3.93701 \n",
       "  \"/>\n",
       "<g clip-path=\"url(#clip00)\">\n",
       "<text style=\"fill:#00002d; fill-opacity:1; font-family:Arial,Helvetica Neue,Helvetica,sans-serif; font-size:12; text-anchor:middle;\" transform=\"rotate(0, 43.4296, 393.015)\" x=\"43.4296\" y=\"393.015\">0</text>\n",
       "</g>\n",
       "<g clip-path=\"url(#clip00)\">\n",
       "<text style=\"fill:#00002d; fill-opacity:1; font-family:Arial,Helvetica Neue,Helvetica,sans-serif; font-size:12; text-anchor:middle;\" transform=\"rotate(0, 219.338, 393.015)\" x=\"219.338\" y=\"393.015\">2</text>\n",
       "</g>\n",
       "<g clip-path=\"url(#clip00)\">\n",
       "<text style=\"fill:#00002d; fill-opacity:1; font-family:Arial,Helvetica Neue,Helvetica,sans-serif; font-size:12; text-anchor:middle;\" transform=\"rotate(0, 395.247, 393.015)\" x=\"395.247\" y=\"393.015\">4</text>\n",
       "</g>\n",
       "<g clip-path=\"url(#clip00)\">\n",
       "<text style=\"fill:#00002d; fill-opacity:1; font-family:Arial,Helvetica Neue,Helvetica,sans-serif; font-size:12; text-anchor:middle;\" transform=\"rotate(0, 571.156, 393.015)\" x=\"571.156\" y=\"393.015\">6</text>\n",
       "</g>\n",
       "<g clip-path=\"url(#clip00)\">\n",
       "<text style=\"fill:#00002d; fill-opacity:1; font-family:Arial,Helvetica Neue,Helvetica,sans-serif; font-size:12; text-anchor:end;\" transform=\"rotate(0, 42.2296, 385.515)\" x=\"42.2296\" y=\"385.515\">-1.0</text>\n",
       "</g>\n",
       "<g clip-path=\"url(#clip00)\">\n",
       "<text style=\"fill:#00002d; fill-opacity:1; font-family:Arial,Helvetica Neue,Helvetica,sans-serif; font-size:12; text-anchor:end;\" transform=\"rotate(0, 42.2296, 291.245)\" x=\"42.2296\" y=\"291.245\">-0.5</text>\n",
       "</g>\n",
       "<g clip-path=\"url(#clip00)\">\n",
       "<text style=\"fill:#00002d; fill-opacity:1; font-family:Arial,Helvetica Neue,Helvetica,sans-serif; font-size:12; text-anchor:end;\" transform=\"rotate(0, 42.2296, 196.976)\" x=\"42.2296\" y=\"196.976\">0.0</text>\n",
       "</g>\n",
       "<g clip-path=\"url(#clip00)\">\n",
       "<text style=\"fill:#00002d; fill-opacity:1; font-family:Arial,Helvetica Neue,Helvetica,sans-serif; font-size:12; text-anchor:end;\" transform=\"rotate(0, 42.2296, 102.706)\" x=\"42.2296\" y=\"102.706\">0.5</text>\n",
       "</g>\n",
       "<g clip-path=\"url(#clip00)\">\n",
       "<text style=\"fill:#00002d; fill-opacity:1; font-family:Arial,Helvetica Neue,Helvetica,sans-serif; font-size:12; text-anchor:end;\" transform=\"rotate(0, 42.2296, 8.43701)\" x=\"42.2296\" y=\"8.43701\">1.0</text>\n",
       "</g>\n",
       "<polyline clip-path=\"url(#clip02)\" style=\"stroke:#0099ff; stroke-width:0.8; stroke-opacity:1; fill:none\" points=\"\n",
       "  43.4296,192.476 44.3091,191.533 45.1887,190.591 46.0682,189.648 46.9477,188.706 47.8273,187.764 48.7068,186.823 49.5864,185.882 50.4659,184.942 51.3455,184.003 \n",
       "  52.225,183.065 53.1045,182.127 53.9841,181.191 54.8636,180.255 55.7432,179.321 56.6227,178.388 57.5023,177.457 58.3818,176.527 59.2614,175.599 60.1409,174.672 \n",
       "  61.0204,173.747 61.9,172.825 62.7795,171.904 63.6591,170.985 64.5386,170.068 65.4182,169.153 66.2977,168.241 67.1772,167.331 68.0568,166.424 68.9363,165.519 \n",
       "  69.8159,164.617 70.6954,163.718 71.575,162.822 72.4545,161.929 73.334,161.038 74.2136,160.151 75.0931,159.267 75.9727,158.387 76.8522,157.509 77.7318,156.636 \n",
       "  78.6113,155.766 79.4909,154.899 80.3704,154.037 81.2499,153.178 82.1295,152.323 83.009,151.472 83.8886,150.625 84.7681,149.783 85.6477,148.944 86.5272,148.11 \n",
       "  87.4067,147.281 88.2863,146.456 89.1658,145.635 90.0454,144.82 90.9249,144.009 91.8045,143.202 92.684,142.401 93.5635,141.605 94.4431,140.814 95.3226,140.028 \n",
       "  96.2022,139.247 97.0817,138.472 97.9613,137.702 98.8408,136.938 99.7203,136.179 100.6,135.425 101.479,134.678 102.359,133.936 103.239,133.2 104.118,132.47 \n",
       "  104.998,131.746 105.877,131.028 106.757,130.316 107.636,129.61 108.516,128.911 109.395,128.218 110.275,127.532 111.154,126.852 112.034,126.178 112.914,125.511 \n",
       "  113.793,124.851 114.673,124.198 115.552,123.551 116.432,122.912 117.311,122.279 118.191,121.653 119.07,121.035 119.95,120.423 120.829,119.819 121.709,119.222 \n",
       "  122.588,118.632 123.468,118.05 124.348,117.475 125.227,116.908 126.107,116.348 126.986,115.796 127.866,115.251 128.745,114.714 129.625,114.185 130.504,113.664 \n",
       "  131.384,113.151 132.263,112.646 133.143,112.148 134.023,111.659 134.902,111.178 135.782,110.704 136.661,110.239 137.541,109.783 138.42,109.334 139.3,108.894 \n",
       "  140.179,108.462 141.059,108.039 141.938,107.624 142.818,107.217 143.698,106.82 144.577,106.43 145.457,106.049 146.336,105.677 147.216,105.314 148.095,104.959 \n",
       "  148.975,104.613 149.854,104.276 150.734,103.948 151.613,103.628 152.493,103.317 153.372,103.016 154.252,102.723 155.132,102.439 156.011,102.164 156.891,101.899 \n",
       "  157.77,101.642 158.65,101.394 159.529,101.156 160.409,100.926 161.288,100.706 162.168,100.495 163.047,100.293 163.927,100.101 164.807,99.9171 165.686,99.743 \n",
       "  166.566,99.5781 167.445,99.4225 168.325,99.2763 169.204,99.1393 170.084,99.0117 170.963,98.8934 171.843,98.7845 172.722,98.685 173.602,98.5948 174.482,98.514 \n",
       "  175.361,98.4426 176.241,98.3806 177.12,98.3281 178,98.2849 178.879,98.2512 179.759,98.2269 180.638,98.212 181.518,98.2065 182.397,98.2105 183.277,98.2239 \n",
       "  184.157,98.2467 185.036,98.2789 185.916,98.3206 186.795,98.3716 187.675,98.4321 188.554,98.502 189.434,98.5813 190.313,98.67 191.193,98.768 192.072,98.8754 \n",
       "  192.952,98.9922 193.831,99.1184 194.711,99.2538 195.591,99.3986 196.47,99.5527 197.35,99.7161 198.229,99.8888 199.109,100.071 199.988,100.262 200.868,100.462 \n",
       "  201.747,100.672 202.627,100.891 203.506,101.119 204.386,101.356 205.266,101.602 206.145,101.857 207.025,102.121 207.904,102.395 208.784,102.677 209.663,102.968 \n",
       "  210.543,103.269 211.422,103.578 212.302,103.896 213.181,104.223 214.061,104.559 214.941,104.903 215.82,105.257 216.7,105.619 217.579,105.99 218.459,106.369 \n",
       "  219.338,106.757 220.218,107.154 221.097,107.559 221.977,107.972 222.856,108.394 223.736,108.825 224.616,109.264 225.495,109.711 226.375,110.166 227.254,110.63 \n",
       "  228.134,111.102 229.013,111.582 229.893,112.07 230.772,112.566 231.652,113.07 232.531,113.582 233.411,114.102 234.29,114.63 235.17,115.165 236.05,115.708 \n",
       "  236.929,116.259 237.809,116.818 238.688,117.384 239.568,117.958 240.447,118.539 241.327,119.127 242.206,119.723 243.086,120.326 243.965,120.937 244.845,121.554 \n",
       "  245.725,122.179 246.604,122.81 247.484,123.449 248.363,124.094 249.243,124.747 250.122,125.406 251.002,126.072 251.881,126.744 252.761,127.423 253.64,128.108 \n",
       "  254.52,128.8 255.4,129.499 256.279,130.203 257.159,130.914 258.038,131.631 258.918,132.354 259.797,133.083 260.677,133.818 261.556,134.559 262.436,135.306 \n",
       "  263.315,136.058 264.195,136.816 265.075,137.58 265.954,138.349 266.834,139.124 267.713,139.903 268.593,140.688 269.472,141.479 270.352,142.274 271.231,143.075 \n",
       "  272.111,143.88 272.99,144.69 273.87,145.505 274.749,146.325 275.629,147.149 276.509,147.978 277.388,148.811 278.268,149.649 279.147,150.491 280.027,151.337 \n",
       "  280.906,152.187 281.786,153.041 282.665,153.9 283.545,154.762 284.424,155.627 285.304,156.497 286.184,157.37 287.063,158.247 287.943,159.127 288.822,160.01 \n",
       "  289.702,160.897 290.581,161.787 291.461,162.679 292.34,163.575 293.22,164.474 294.099,165.376 294.979,166.28 295.859,167.187 296.738,168.096 297.618,169.008 \n",
       "  298.497,169.922 299.377,170.838 300.256,171.757 301.136,172.678 302.015,173.6 302.895,174.525 303.774,175.451 304.654,176.379 305.534,177.309 306.413,178.24 \n",
       "  307.293,179.173 308.172,180.107 309.052,181.042 309.931,181.978 310.811,182.915 311.69,183.854 312.57,184.793 313.449,185.733 314.329,186.673 315.208,187.614 \n",
       "  316.088,188.556 316.968,189.498 317.847,190.441 318.727,191.383 319.606,192.326 320.486,193.268 321.365,194.211 322.245,195.154 323.124,196.096 324.004,197.037 \n",
       "  324.883,197.979 325.763,198.92 326.643,199.86 327.522,200.799 328.402,201.738 329.281,202.675 330.161,203.612 331.04,204.548 331.92,205.482 332.799,206.415 \n",
       "  333.679,207.347 334.558,208.277 335.438,209.205 336.318,210.132 337.197,211.057 338.077,211.98 338.956,212.902 339.836,213.821 340.715,214.738 341.595,215.653 \n",
       "  342.474,216.566 343.354,217.476 344.233,218.384 345.113,219.289 345.993,220.191 346.872,221.091 347.752,221.987 348.631,222.881 349.511,223.772 350.39,224.66 \n",
       "  351.27,225.544 352.149,226.425 353.029,227.303 353.908,228.177 354.788,229.048 355.667,229.915 356.547,230.778 357.427,231.638 358.306,232.493 359.186,233.345 \n",
       "  360.065,234.192 360.945,235.035 361.824,235.874 362.704,236.709 363.583,237.539 364.463,238.365 365.342,239.186 366.222,240.003 367.102,240.814 367.981,241.621 \n",
       "  368.861,242.423 369.74,243.22 370.62,244.012 371.499,244.799 372.379,245.581 373.258,246.357 374.138,247.128 375.017,247.893 375.897,248.653 376.777,249.407 \n",
       "  377.656,250.155 378.536,250.898 379.415,251.635 380.295,252.366 381.174,253.091 382.054,253.81 382.933,254.523 383.813,255.229 384.692,255.93 385.572,256.624 \n",
       "  386.451,257.311 387.331,257.992 388.211,258.667 389.09,259.335 389.97,259.996 390.849,260.65 391.729,261.298 392.608,261.939 393.488,262.573 394.367,263.2 \n",
       "  395.247,263.819 396.126,264.432 397.006,265.037 397.886,265.635 398.765,266.226 399.645,266.81 400.524,267.386 401.404,267.954 402.283,268.515 403.163,269.069 \n",
       "  404.042,269.614 404.922,270.153 405.801,270.683 406.681,271.205 407.561,271.72 408.44,272.226 409.32,272.725 410.199,273.216 411.079,273.698 411.958,274.173 \n",
       "  412.838,274.639 413.717,275.097 414.597,275.547 415.476,275.988 416.356,276.421 417.236,276.846 418.115,277.262 418.995,277.67 419.874,278.07 420.754,278.46 \n",
       "  421.633,278.842 422.513,279.216 423.392,279.581 424.272,279.937 425.151,280.284 426.031,280.623 426.91,280.953 427.79,281.274 428.67,281.586 429.549,281.889 \n",
       "  430.429,282.183 431.308,282.468 432.188,282.744 433.067,283.012 433.947,283.27 434.826,283.519 435.706,283.759 436.585,283.99 437.465,284.211 438.345,284.424 \n",
       "  439.224,284.627 440.104,284.821 440.983,285.006 441.863,285.182 442.742,285.348 443.622,285.505 444.501,285.653 445.381,285.791 446.26,285.92 447.14,286.04 \n",
       "  448.02,286.151 448.899,286.252 449.779,286.343 450.658,286.426 451.538,286.499 452.417,286.562 453.297,286.616 454.176,286.661 455.056,286.696 455.935,286.722 \n",
       "  456.815,286.738 457.695,286.745 458.574,286.743 459.454,286.731 460.333,286.709 461.213,286.679 462.092,286.639 462.972,286.589 463.851,286.53 464.731,286.462 \n",
       "  465.61,286.384 466.49,286.297 467.369,286.2 468.249,286.094 469.129,285.979 470.008,285.854 470.888,285.72 471.767,285.577 472.647,285.424 473.526,285.262 \n",
       "  474.406,285.091 475.285,284.911 476.165,284.721 477.044,284.522 477.924,284.314 478.804,284.097 479.683,283.87 480.563,283.635 481.442,283.39 482.322,283.136 \n",
       "  483.201,282.873 484.081,282.601 484.96,282.32 485.84,282.03 486.719,281.732 487.599,281.424 488.479,281.107 489.358,280.782 490.238,280.447 491.117,280.104 \n",
       "  491.997,279.752 492.876,279.391 493.756,279.022 494.635,278.644 495.515,278.257 496.394,277.862 497.274,277.458 498.154,277.046 499.033,276.625 499.913,276.196 \n",
       "  500.792,275.759 501.672,275.313 502.551,274.859 503.431,274.396 504.31,273.926 505.19,273.447 506.069,272.96 506.949,272.466 507.828,271.963 508.708,271.452 \n",
       "  509.588,270.933 510.467,270.407 511.347,269.873 512.226,269.33 513.106,268.781 513.985,268.223 514.865,267.658 515.744,267.086 516.624,266.506 517.503,265.919 \n",
       "  518.383,265.324 519.263,264.722 520.142,264.113 521.022,263.497 521.901,262.873 522.781,262.243 523.66,261.605 524.54,260.961 525.419,260.31 526.299,259.652 \n",
       "  527.178,258.987 528.058,258.315 528.938,257.638 529.817,256.953 530.697,256.262 531.576,255.565 532.456,254.861 533.335,254.151 534.215,253.435 535.094,252.713 \n",
       "  535.974,251.985 536.853,251.251 537.733,250.511 538.613,249.765 539.492,249.014 540.372,248.257 541.251,247.494 542.131,246.726 543.01,245.952 543.89,245.173 \n",
       "  544.769,244.389 545.649,243.599 546.528,242.805 547.408,242.005 548.287,241.201 549.167,240.391 550.047,239.577 550.926,238.758 551.806,237.934 552.685,237.106 \n",
       "  553.565,236.274 554.444,235.437 555.324,234.596 556.203,233.75 557.083,232.9 557.962,232.047 558.842,231.189 559.722,230.328 560.601,229.463 561.481,228.594 \n",
       "  562.36,227.721 563.24,226.845 564.119,225.966 564.999,225.083 565.878,224.197 566.758,223.307 567.637,222.415 568.517,221.519 569.397,220.621 570.276,219.72 \n",
       "  571.156,218.816 572.035,217.91 572.915,217.001 573.794,216.089 574.674,215.176 575.553,214.26 576.433,213.341 577.312,212.421 578.192,211.499 579.072,210.574 \n",
       "  579.951,209.648 580.831,208.721 581.71,207.791 582.59,206.86 583.469,205.928 584.349,204.994 585.228,204.059 586.108,203.123 586.987,202.186 587.867,201.248 \n",
       "  588.746,200.309 589.626,199.369 590.506,198.428 591.385,197.487 592.265,196.546 593.144,195.604 594.024,194.661 594.903,193.719 595.783,192.776 \n",
       "  \"/>\n",
       "<polygon clip-path=\"url(#clip00)\" points=\"\n",
       "505.547,55.057 578.063,55.057 578.063,24.817 505.547,24.817 \n",
       "  \" fill=\"#ffffff\" fill-opacity=\"1\"/>\n",
       "<polyline clip-path=\"url(#clip00)\" style=\"stroke:#00002d; stroke-width:0.8; stroke-opacity:1; fill:none\" points=\"\n",
       "  505.547,55.057 578.063,55.057 578.063,24.817 505.547,24.817 505.547,55.057 \n",
       "  \"/>\n",
       "<polyline clip-path=\"url(#clip00)\" style=\"stroke:#0099ff; stroke-width:0.8; stroke-opacity:1; fill:none\" points=\"\n",
       "  511.547,39.937 547.547,39.937 \n",
       "  \"/>\n",
       "<g clip-path=\"url(#clip00)\">\n",
       "<text style=\"fill:#00002d; fill-opacity:1; font-family:Arial,Helvetica Neue,Helvetica,sans-serif; font-size:12; text-anchor:start;\" transform=\"rotate(0, 553.547, 44.437)\" x=\"553.547\" y=\"44.437\">y1</text>\n",
       "</g>\n",
       "</svg>\n"
      ]
     },
     "execution_count": 5,
     "metadata": {
      "comm_id": "6fcf98d4-d685-4f98-acaa-bb8eb0539aa4",
      "reactive": true
     },
     "output_type": "execute_result"
    }
   ],
   "source": [
    "@manipulate for z in 0:0.01:1\n",
    "    plot(0:0.01:2π, x-> z*sin(x),xlims = (0,2π), ylims = (-1,1))\n",
    "end"
   ]
  },
  {
   "cell_type": "code",
   "execution_count": 6,
   "metadata": {
    "collapsed": true
   },
   "outputs": [],
   "source": [
    "using GraphViz # Linux and OS X only"
   ]
  },
  {
   "cell_type": "code",
   "execution_count": 7,
   "metadata": {
    "collapsed": false
   },
   "outputs": [
    {
     "data": {
      "image/png": "[encoded data removed]",
      "image/svg+xml": [
       "<?xml version=\"1.0\" encoding=\"UTF-8\" standalone=\"no\"?>\n",
       "<!DOCTYPE svg PUBLIC \"-//W3C//DTD SVG 1.1//EN\"\n",
       " \"http://www.w3.org/Graphics/SVG/1.1/DTD/svg11.dtd\">\n",
       "<!-- Generated by graphviz version 2.38.0 (20140413.2041)\n",
       " -->\n",
       "<!-- Title: g Pages: 1 -->\n",
       "<svg width=\"133pt\" height=\"55pt\"\n",
       " viewBox=\"0.00 0.00 133.21 54.64\" xmlns=\"http://www.w3.org/2000/svg\" xmlns:xlink=\"http://www.w3.org/1999/xlink\">\n",
       "<g id=\"graph0\" class=\"graph\" transform=\"scale(1 1) rotate(0) translate(66.6048 27.3196)\">\n",
       "<title>g</title>\n",
       "<polygon fill=\"white\" stroke=\"none\" points=\"-66.6048,27.3196 -66.6048,-27.3196 66.6048,-27.3196 66.6048,27.3196 -66.6048,27.3196\"/>\n",
       "<!-- A -->\n",
       "<g id=\"node1\" class=\"node\"><title>A</title>\n",
       "<ellipse fill=\"none\" stroke=\"black\" cx=\"-35.6048\" cy=\"-5.31955\" rx=\"27\" ry=\"18\"/>\n",
       "<text text-anchor=\"middle\" x=\"-35.6048\" y=\"-1.61955\" font-family=\"Times,serif\" font-size=\"14.00\">A</text>\n",
       "</g>\n",
       "<!-- B -->\n",
       "<g id=\"node2\" class=\"node\"><title>B</title>\n",
       "<ellipse fill=\"none\" stroke=\"black\" cx=\"35.6048\" cy=\"5.31955\" rx=\"27\" ry=\"18\"/>\n",
       "<text text-anchor=\"middle\" x=\"35.6048\" y=\"9.01955\" font-family=\"Times,serif\" font-size=\"14.00\">B</text>\n",
       "</g>\n",
       "<!-- A&#45;&gt;B -->\n",
       "<g id=\"edge1\" class=\"edge\"><title>A&#45;&gt;B</title>\n",
       "<path fill=\"none\" stroke=\"black\" d=\"M-9.08898,-1.35794C-6.52858,-0.975405 -3.90098,-0.582828 -1.26413,-0.188867\"/>\n",
       "<polygon fill=\"black\" stroke=\"black\" points=\"-0.543671,-3.62016 8.82935,1.31915 -1.57809,3.30299 -0.543671,-3.62016\"/>\n",
       "</g>\n",
       "</g>\n",
       "</svg>\n"
      ],
      "text/plain": [
       "GraphViz.Graph(Ptr{Void} @0x0000000005534730,false)"
      ]
     },
     "execution_count": 7,
     "metadata": {},
     "output_type": "execute_result"
    }
   ],
   "source": [
    "Graph(\"\"\"\n",
    "digraph g {\n",
    "A -> B\n",
    "}\n",
    "\"\"\")"
   ]
  }
 ],
 "metadata": {
  "anaconda-cloud": {},
  "kernelspec": {
   "display_name": "Julia 0.5.0",
   "language": "julia",
   "name": "julia-0.5"
  },
  "language_info": {
   "file_extension": ".jl",
   "mimetype": "application/julia",
   "name": "julia",
   "version": "0.5.0"
  },
  "widgets": {
   "state": {
    "6bd4dba6-727d-41de-8e9b-5f44f30aeec2": {
     "views": [
      {
       "cell_index": 1
      }
     ]
    },
    "890e2604-25cc-440a-8641-8fda37267ccb": {
     "views": [
      {
       "cell_index": 4
      }
     ]
    }
   },
   "version": "1.2.0"
  }
 },
 "nbformat": 4,
 "nbformat_minor": 1
}
